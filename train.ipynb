{
 "cells": [
  {
   "cell_type": "raw",
   "metadata": {},
   "source": [
    "%load_ext autoreload\n",
    "%autoreload 2"
   ]
  },
  {
   "cell_type": "code",
   "execution_count": 2,
   "metadata": {},
   "outputs": [],
   "source": [
    "import os\n",
    "import time\n",
    "import random\n",
    "import pickle\n",
    "import numpy as np\n",
    "import pandas as pd\n",
    "from tqdm import tqdm_notebook as tqdm\n",
    "\n",
    "from sklearn.metrics import f1_score, accuracy_score, roc_auc_score, balanced_accuracy_score, confusion_matrix\n",
    "from sklearn.utils import resample\n",
    "from sklearn.model_selection import train_test_split\n",
    "\n",
    "import matplotlib.pyplot as plt\n",
    "%matplotlib inline"
   ]
  },
  {
   "cell_type": "code",
   "execution_count": 3,
   "metadata": {},
   "outputs": [],
   "source": [
    "import torch\n",
    "import torch.nn as nn\n",
    "from torch import Tensor\n",
    "import torch.nn.functional as F\n",
    "from torch.backends import cudnn\n",
    "cudnn.deterministic = True\n",
    "cudnn.benchmark = False\n",
    "device = torch.device('cuda') if torch.cuda.is_available() else roech.device('cpu')"
   ]
  },
  {
   "cell_type": "code",
   "execution_count": 4,
   "metadata": {},
   "outputs": [],
   "source": [
    "from option import get_option, parser\n",
    "from trainer import Trainer\n",
    "from utils import save_option\n",
    "import data_loader\n",
    "import models\n",
    "from urlnet_utils import *"
   ]
  },
  {
   "cell_type": "code",
   "execution_count": 5,
   "metadata": {},
   "outputs": [],
   "source": [
    "import logging\n",
    "logging.basicConfig(format='%(asctime)s - %(levelname)s - %(name)s -   %(message)s',\n",
    "                    datefmt='%m/%d/%Y %H:%M:%S',\n",
    "                    level=logging.INFO)\n",
    "#logging.getLogger().setLevel(logging.INFO)\n",
    "logger = logging.getLogger(__name__)\n",
    "\n",
    "import warnings\n",
    "warnings.filterwarnings(\"ignore\")\n",
    "with warnings.catch_warnings():\n",
    "    warnings.filterwarnings(\"ignore\",category=DeprecationWarning)"
   ]
  },
  {
   "cell_type": "code",
   "execution_count": 6,
   "metadata": {},
   "outputs": [],
   "source": [
    "def set_seed(seed=87):\n",
    "    random.seed(seed)\n",
    "    np.random.seed(seed)\n",
    "    torch.manual_seed(seed)\n",
    "    torch.cuda.manual_seed_all(seed)\n",
    "set_seed(87)"
   ]
  },
  {
   "cell_type": "markdown",
   "metadata": {},
   "source": [
    "# process data"
   ]
  },
  {
   "cell_type": "code",
   "execution_count": 8,
   "metadata": {},
   "outputs": [],
   "source": [
    "min_word_freq = 20\n",
    "max_len_words = 200\n",
    "max_len_chars = 200\n",
    "max_len_subwords = 20\n",
    "delimit_mode = 1\n",
    "dev_pct = 0.01"
   ]
  },
  {
   "cell_type": "code",
   "execution_count": 9,
   "metadata": {},
   "outputs": [
    {
     "name": "stderr",
     "output_type": "stream",
     "text": [
      "01/19/2020 17:16:03 - WARNING - tensorflow -   From /host/Proxy/learning-not-to-learn/urlnet_utils.py:113: VocabularyProcessor.__init__ (from tensorflow.contrib.learn.python.learn.preprocessing.text) is deprecated and will be removed in a future version.\n",
      "Instructions for updating:\n",
      "Please use tensorflow/transform or tf.data.\n",
      "01/19/2020 17:16:03 - WARNING - tensorflow -   From /usr/local/lib/python3.5/dist-packages/tensorflow/contrib/learn/python/learn/preprocessing/text.py:154: CategoricalVocabulary.__init__ (from tensorflow.contrib.learn.python.learn.preprocessing.categorical_vocabulary) is deprecated and will be removed in a future version.\n",
      "Instructions for updating:\n",
      "Please use tensorflow/transform or tf.data.\n",
      "01/19/2020 17:16:03 - WARNING - tensorflow -   From /usr/local/lib/python3.5/dist-packages/tensorflow/contrib/learn/python/learn/preprocessing/text.py:170: tokenizer (from tensorflow.contrib.learn.python.learn.preprocessing.text) is deprecated and will be removed in a future version.\n",
      "Instructions for updating:\n",
      "Please use tensorflow/transform or tf.data.\n"
     ]
    },
    {
     "name": "stdout",
     "output_type": "stream",
     "text": [
      "Finished build vocabulary and mapping to x in 2.5176048278808594\n",
      "Size of word vocabulary: 1676\n",
      "Number of words with freq >=20: 1676\n",
      "Finished build vocabulary and mapping to x in 2.328479766845703\n",
      "Size of word vocabulary: 63443\n",
      "Processing #url 0\n",
      "Size of ngram vocabulary: 131\n",
      "Size of word vocabulary: 1733\n",
      "Index of <UNKNOWN> word: 4\n",
      "Overall Mal/Ben rate: 23613/23613\n",
      "(46754, 200) (472, 200)\n"
     ]
    }
   ],
   "source": [
    "urls, labels = read_data(\"../URLNet/train_10000.txt\")\n",
    "\n",
    "high_freq_words = None\n",
    "if min_word_freq > 0:\n",
    "    x1, word_reverse_dict = get_word_vocab(urls, max_len_words, min_word_freq) \n",
    "    high_freq_words = sorted(list(word_reverse_dict.values()))\n",
    "    print(\"Number of words with freq >={}: {}\".format(min_word_freq, len(high_freq_words)))\n",
    "\n",
    "x, word_reverse_dict = get_word_vocab(urls, max_len_words)\n",
    "word_x = get_words(x, word_reverse_dict, delimit_mode, urls)\n",
    "ngramed_id_x, ngrams_dict, worded_id_x, words_dict = ngram_id_x(word_x, max_len_subwords, high_freq_words)\n",
    "reverse_dict = {words_dict[i]:i for i in words_dict}\n",
    "print(\"Overall Mal/Ben rate: {}/{}\".format(np.sum(labels==1), np.sum(labels==0)))\n",
    "\n",
    "########  shuffle & split  ######\n",
    "\n",
    "shuffle_idx = np.random.permutation(np.arange(len(labels)))\n",
    "train, test = prep_train_test(len(labels), dev_pct)\n",
    "#y_train, y_test = to_categorical(labels[train], nb_classes=2), to_categorical(labels[test], nb_classes=2)\n",
    "y_train, y_val = labels[train], labels[test]\n",
    "\n",
    "x_train_word = pad_seq_in_word(worded_id_x[train], max_len_words)\n",
    "x_val_word = pad_seq_in_word(worded_id_x[test], max_len_words)\n",
    "print(x_train_word.shape, x_val_word.shape)\n",
    "\n",
    "\n",
    "########  characters  ######\n",
    "#chars_dict = ngrams_dict\n",
    "#chared_id_x = char_id_x(urls, chars_dict, max_len_chars)\n",
    "#x_train_char = ngramed_id_x[train]\n",
    "#x_val_char = ngramed_id_x[test]\n",
    "#x_train_char_seq = pad_seq_in_word(chared_id_x[train], max_len_chars)\n",
    "#x_val_char_seq = pad_seq_in_word(chared_id_x[test], max_len_chars)\n",
    "#print(x_train_char_seq.shape, x_val_char_seq.shape)"
   ]
  },
  {
   "cell_type": "code",
   "execution_count": 11,
   "metadata": {},
   "outputs": [
    {
     "name": "stdout",
     "output_type": "stream",
     "text": [
      "Finished build vocabulary and mapping to x in 0.24662184715270996\n",
      "Size of word vocabulary: 10884\n",
      "Index of <UNKNOWN> word: 4\n",
      "Processing url #0\n",
      "Number of testing urls: 5248\n",
      "(5248, 200)\n"
     ]
    }
   ],
   "source": [
    "urls, labels = read_data(\"../URLNet/val_10000.txt\")\n",
    "x, word_reverse_dict = get_word_vocab(urls, max_len_words) \n",
    "word_x = get_words(x, word_reverse_dict, delimit_mode, urls) \n",
    "ngramed_id_x, worded_id_x = ngram_id_x_from_dict(word_x, max_len_subwords, ngrams_dict, words_dict) \n",
    "print(\"Number of testing urls: {}\".format(len(labels)))\n",
    "\n",
    "y_test = labels\n",
    "x_test_word = pad_seq_in_word(worded_id_x, max_len_words)\n",
    "print(x_test_word.shape)\n",
    "\n",
    "########  characters  ######\n",
    "#chared_id_x = char_id_x(urls, chars_dict, max_len_chars)\n",
    "#x_test_char = ngramed_id_x\n",
    "#x_test_char_seq = pad_seq_in_word(chared_id_x, max_len_chars)\n",
    "#print(x_test_char_seq.shape, x_test_char_seq.shape)"
   ]
  },
  {
   "cell_type": "code",
   "execution_count": 13,
   "metadata": {},
   "outputs": [
    {
     "name": "stdout",
     "output_type": "stream",
     "text": [
      "balance 132894 132894\n",
      "Finished build vocabulary and mapping to x in 5.991540908813477\n",
      "Size of word vocabulary: 186707\n",
      "Index of <UNKNOWN> word: 4\n",
      "Processing url #0\n",
      "Processing url #100000\n",
      "Number of testing urls: 132894\n",
      "(132894, 200)\n"
     ]
    }
   ],
   "source": [
    "# from different data source\n",
    "# main evaluation\n",
    "\n",
    "urls, labels = read_data(\"../taipei/out.csv\")\n",
    "\n",
    "### balance ###\n",
    "n_subsample = min((labels==1).sum(), (labels==0).sum())\n",
    "murl = urls[labels==0]\n",
    "burl = urls[labels==1]\n",
    "np.random.shuffle(murl)\n",
    "np.random.shuffle(burl)\n",
    "urls = np.concatenate([murl[:n_subsample], burl[:n_subsample]])\n",
    "labels = np.array([0]*n_subsample+[1]*n_subsample)\n",
    "print(\"balance\", len(urls), len(labels))\n",
    "###\n",
    "x, word_reverse_dict = get_word_vocab(urls, max_len_words) \n",
    "word_x = get_words(x, word_reverse_dict, delimit_mode, urls) \n",
    "ngramed_id_x, worded_id_x = ngram_id_x_from_dict(word_x, max_len_subwords, ngrams_dict, words_dict)\n",
    "print(\"Number of testing urls: {}\".format(len(labels)))\n",
    "\n",
    "y_test2 = labels\n",
    "x_test_word2 = pad_seq_in_word(worded_id_x, max_len_words)\n",
    "print(x_test_word2.shape)\n",
    "\n",
    "########  characters  ######\n",
    "#chared_id_x = char_id_x(urls, chars_dict, max_len_chars)\n",
    "#x_test_char2 = ngramed_id_x\n",
    "#x_test_char_seq2 = pad_seq_in_word(chared_id_x, max_len_chars)\n",
    "#print(x_test_char_seq2.shape, x_test_char_seq2.shape)"
   ]
  },
  {
   "cell_type": "markdown",
   "metadata": {},
   "source": [
    "# model setup"
   ]
  },
  {
   "cell_type": "code",
   "execution_count": 17,
   "metadata": {},
   "outputs": [],
   "source": [
    "emb_dim = 32\n",
    "l2_reg_lambda = 0.0\n",
    "emb_mode = 2\n",
    "filter_size = [3,4,5,6]\n",
    "batch_size = 128\n",
    "epochs = 5\n",
    "lr = 1e-3"
   ]
  },
  {
   "cell_type": "code",
   "execution_count": 18,
   "metadata": {},
   "outputs": [],
   "source": [
    "from torch.utils.data import Dataset, DataLoader\n",
    "class mydata(Dataset):\n",
    "    def __init__(self, X, Y):\n",
    "        self.X = X\n",
    "        self.Y = Y\n",
    "    def __len__(self):\n",
    "        return len(self.X)\n",
    "    def __getitem__(self, index):\n",
    "        return self.X[index], self.Y[index]\n",
    "\n",
    "idx = np.random.permutation(len(x_test_word2))[:30000]\n",
    "train_dataset = mydata(x_train_word, y_train)\n",
    "val_dataset = mydata(x_val_word, y_val)\n",
    "test_dataset1 = mydata(x_test_word, y_test)\n",
    "test_dataset2 = mydata(x_test_word2[idx], y_test2[idx])\n",
    "\n",
    "train_loader = DataLoader(train_dataset, batch_size=batch_size, shuffle=False)\n",
    "val_loader = DataLoader(val_dataset, batch_size=batch_size, shuffle=False)\n",
    "test_loader1 = DataLoader(test_dataset1, batch_size=batch_size, shuffle=False)\n",
    "test_loader2 = DataLoader(test_dataset2, batch_size=batch_size, shuffle=False)"
   ]
  },
  {
   "cell_type": "code",
   "execution_count": 19,
   "metadata": {},
   "outputs": [],
   "source": [
    "def accuracy_thresh_sum(y_pred:Tensor, y_true:Tensor, thresh:float=0.5, sigmoid:bool=True):\n",
    "    y_pred = F.sigmoid(y_pred)\n",
    "    return ((y_pred>thresh)==y_true.byte()).float().sum().item()\n",
    "\n",
    "def accuracy_thresh_score(y_true, y_pred, thresh:float=0.5):\n",
    "    return ((y_pred>0.5).astype(int) == y_true).mean()"
   ]
  },
  {
   "cell_type": "code",
   "execution_count": 20,
   "metadata": {},
   "outputs": [],
   "source": [
    "def step(model, optimizer, loader, train=True, message=\"\"):\n",
    "    loss_total = 0\n",
    "    all_logits = []\n",
    "    all_labels = []\n",
    "    \n",
    "    model.train() if train else model.eval()\n",
    "    mode = torch.enable_grad if train else torch.no_grad\n",
    "    \n",
    "    with mode():\n",
    "        #for (data, label) in tqdm(loader, desc=message):\n",
    "        for (data, label) in loader:\n",
    "            data, label = data.long().cuda(), label.long().cuda() # bce:float ce:long\n",
    "            logits = model(data).squeeze()\n",
    "            #loss = F.binary_cross_entropy_with_logits(logits, label, reduction=\"sum\")\n",
    "            loss = F.cross_entropy(F.softmax(logits, dim=1), label, reduction=\"sum\")\n",
    "            \n",
    "            if train:\n",
    "                loss.backward()\n",
    "                optimizer.step()\n",
    "                optimizer.zero_grad()\n",
    "            loss_total += loss.item()\n",
    "            all_labels.append(label.detach().cpu().numpy())\n",
    "            #F.sigmoid(logits).detach().cpu().numpy()\n",
    "            tmp = F.softmax(logits, dim=1).detach().cpu().numpy()[:, 1]\n",
    "            all_logits.append(tmp)\n",
    "            \n",
    "            \n",
    "    loss_total /= len(loader)\n",
    "    all_labels = np.hstack(all_labels)\n",
    "    all_logits = np.hstack(all_logits)\n",
    "    auc = roc_auc_score(1-all_labels, 1-all_logits) if len(np.unique(all_labels)) > 1 else 0\n",
    "    acc = accuracy_thresh_score(all_labels, all_logits)\n",
    "    bacc = balanced_accuracy_score(all_labels, (all_logits>0.5).astype(int))\n",
    "    f1 = f1_score(all_labels, (all_logits>0.5).astype(int))\n",
    "    (tn, fp, fn, tp) = confusion_matrix(all_labels, (all_logits>0.5).astype(int)).ravel()\n",
    "    \n",
    "#     logger.info(message)\n",
    "#     logger.info('Loss      : {}'.format(loss_total))\n",
    "#     logger.info('Accuracy  : {}'.format(acc))\n",
    "#     logger.info('balanceAcc: {}'.format(bacc))\n",
    "#     logger.info('AUC       : {}'.format(auc))\n",
    "#     logger.info('confusion : {}'.format((tn, fp, fn, tp)))\n",
    "    \n",
    "    \n",
    "    return {'loss':loss_total, 'acc':acc, 'auc':auc, 'f1':f1, 'bacc':bacc}"
   ]
  },
  {
   "cell_type": "code",
   "execution_count": 21,
   "metadata": {},
   "outputs": [],
   "source": [
    "# start straining\n",
    "def train(history, epochs):\n",
    "    best = 0\n",
    "    \n",
    "    for e in tqdm(range(epochs), desc=\"Epoch\"):\n",
    "        train_result = step(model, optimizer, train_loader, train=True, message=\"Training :{}\".format(e))\n",
    "        valid_result = step(model, optimizer, val_loader, train=False, message=\"Validation :{}\".format(e))\n",
    "        test_result1 = step(model, optimizer, test_loader1, train=False, message=\"Test 1 :{}\".format(e))\n",
    "        test_result2 = step(model, optimizer, test_loader2, train=False, message=\"Test 2 :{}\".format(e))\n",
    "\n",
    "        history['train'].append(train_result)\n",
    "        history['valid'].append(valid_result)\n",
    "        history['test1'].append(test_result1)\n",
    "        history['test2'].append(test_result2)\n",
    "        \n",
    "        if test_result2['auc'] > best:\n",
    "            best_model = model\n",
    "            best = test_result2['auc']\n",
    "        \n",
    "    return history, best_model"
   ]
  },
  {
   "cell_type": "code",
   "execution_count": 22,
   "metadata": {},
   "outputs": [
    {
     "name": "stdout",
     "output_type": "stream",
     "text": [
      "paramters count 893250\n"
     ]
    },
    {
     "data": {
      "application/vnd.jupyter.widget-view+json": {
       "model_id": "73183b1f64b844728ac62f5630565dc4",
       "version_major": 2,
       "version_minor": 0
      },
      "text/plain": [
       "HBox(children=(IntProgress(value=0, description='Epoch', max=10, style=ProgressStyle(description_width='initia…"
      ]
     },
     "metadata": {},
     "output_type": "display_data"
    },
    {
     "name": "stdout",
     "output_type": "stream",
     "text": [
      "\n",
      "[0.6408845645685984]\n",
      "0.6408845645685984\n"
     ]
    }
   ],
   "source": [
    "best = []\n",
    "for i in range(1):\n",
    "    set_seed(87+i)\n",
    "    model = models.WordCNN(\n",
    "            word_ngram_vocab_size = len(words_dict)+1,\n",
    "            emb_size=emb_dim,\n",
    "            word_seq_len=max_len_words,\n",
    "            l2_reg_lambda=l2_reg_lambda,\n",
    "            filter_size=256,\n",
    "            dropout=0.2,\n",
    "            kernel_sizes=filter_size).cuda()\n",
    "    #model = models.Malconv(len(words_dict)+1, 200, 5).cuda()\n",
    "    print('paramters count', sum(p.numel() for p in model.parameters()))\n",
    "    optimizer = torch.optim.Adam(model.parameters(), lr=1e-3, weight_decay=0.0)\n",
    "    \n",
    "    history = {'train':[], 'valid':[], 'test1':[], 'test2':[]}\n",
    "    history, best_model = train(history, 10)\n",
    "    best.append(max([i['auc'] for i in history['test2']]))\n",
    "    \n",
    "print(best)\n",
    "print(np.mean(best))\n",
    "best1 = np.mean(best)"
   ]
  },
  {
   "cell_type": "code",
   "execution_count": 27,
   "metadata": {},
   "outputs": [
    {
     "data": {
      "image/png": "[encoded data removed]",
      "text/plain": [
       "<Figure size 576x576 with 3 Axes>"
      ]
     },
     "metadata": {
      "needs_background": "light"
     },
     "output_type": "display_data"
    }
   ],
   "source": [
    "save = \"baseline\"\n",
    "\n",
    "train_loss = [l['loss'] for l in history['train']]\n",
    "valid_loss = [l['loss'] for l in history['valid']]\n",
    "test1_loss = [l['loss'] for l in history['test1']]\n",
    "test2_loss = [l['loss'] for l in history['test2']]\n",
    "\n",
    "train_auc = [l['auc'] for l in history['train']]\n",
    "valid_auc = [l['auc'] for l in history['valid']]\n",
    "test1_auc = [l['auc'] for l in history['test1']]\n",
    "test2_auc = [l['auc'] for l in history['test2']]\n",
    "\n",
    "train_f1 = [l['f1'] for l in history['train']]\n",
    "valid_f1 = [l['f1'] for l in history['valid']]\n",
    "test1_f1 = [l['f1'] for l in history['test1']]\n",
    "test2_f1 = [l['f1'] for l in history['test2']]\n",
    "\n",
    "plt.figure(figsize=(8,8))\n",
    "\n",
    "plt.subplot(311)\n",
    "plt.title('Loss')\n",
    "plt.plot(train_loss, label='train')\n",
    "plt.plot(valid_loss, label='valid')\n",
    "plt.plot(test1_loss, label='test1')\n",
    "plt.plot(test2_loss, label='test2')\n",
    "plt.legend()\n",
    "\n",
    "\n",
    "plt.subplot(312)\n",
    "plt.title('AUC Score')\n",
    "plt.plot(train_auc, label='train')\n",
    "plt.plot(valid_auc, label='valid')\n",
    "plt.plot(test1_auc, label='test1')\n",
    "plt.plot(test2_auc, label='test2')\n",
    "plt.legend()\n",
    "plt.tight_layout()\n",
    "\n",
    "plt.subplot(313)\n",
    "plt.title('AUC Score')\n",
    "plt.plot(train_f1, label='train')\n",
    "plt.plot(valid_f1, label='valid')\n",
    "plt.plot(test1_f1, label='test1')\n",
    "plt.plot(test2_f1, label='test2')\n",
    "plt.legend()\n",
    "plt.tight_layout()\n",
    "\n",
    "# if save:\n",
    "#     path = os.path.join(\"output\", save+'.png')\n",
    "#     plt.savefig(path)\n",
    "plt.show()"
   ]
  },
  {
   "cell_type": "markdown",
   "metadata": {},
   "source": [
    "# Adversarial training"
   ]
  },
  {
   "cell_type": "markdown",
   "metadata": {},
   "source": [
    "# save model"
   ]
  },
  {
   "cell_type": "raw",
   "metadata": {},
   "source": [
    "torch.save({'epoch': 200,\n",
    "            'model_state_dict': adv_model.state_dict(),\n",
    "            'optimizer_state_dict': adv_optimizer.state_dict(),\n",
    "            'bias_model_state_dict': bias_model.state_dict(),\n",
    "            'bias_optimizer_state_dict': bias_optimizer.state_dict(),\n",
    "            'history': history}, 'adv_model.pt')"
   ]
  },
  {
   "cell_type": "markdown",
   "metadata": {},
   "source": [
    "# pytorch to tensorflow"
   ]
  },
  {
   "cell_type": "raw",
   "metadata": {},
   "source": [
    "import onnx\n",
    "from onnx_tf.backend import prepare\n",
    "\n",
    "model = onnx.load('./onnx_adv_model.onnx')\n",
    "tf_rep = prepare(model)\n",
    "\n",
    "tf_rep.export_graph('./tensorflow_adv_mdoel.pb')"
   ]
  },
  {
   "cell_type": "code",
   "execution_count": null,
   "metadata": {},
   "outputs": [],
   "source": []
  }
 ],
 "metadata": {
  "kernelspec": {
   "display_name": "Python 3",
   "language": "python",
   "name": "python3"
  },
  "language_info": {
   "codemirror_mode": {
    "name": "ipython",
    "version": 3
   },
   "file_extension": ".py",
   "mimetype": "text/x-python",
   "name": "python",
   "nbconvert_exporter": "python",
   "pygments_lexer": "ipython3",
   "version": "3.5.2"
  }
 },
 "nbformat": 4,
 "nbformat_minor": 4
}
